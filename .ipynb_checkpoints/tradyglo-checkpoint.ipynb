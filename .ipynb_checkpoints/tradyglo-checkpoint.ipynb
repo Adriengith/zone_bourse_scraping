{
 "cells": [
  {
   "cell_type": "code",
   "execution_count": 1,
   "metadata": {},
   "outputs": [
    {
     "name": "stdout",
     "output_type": "stream",
     "text": [
      "1527\n"
     ]
    }
   ],
   "source": [
    "import numpy as np\n",
    "import matplotlib.pyplot as plt\n",
    "import sqlite3\n",
    "capital = 20000\n",
    "total = capital\n",
    "values = []\n",
    "values_no_inc = []\n",
    "connexion = sqlite3.connect(\"trading_positions.db\")\n",
    "c = connexion.cursor()\n",
    "\n",
    "\n",
    "with connexion: \n",
    "    c.execute(\"SELECT gains_pertes FROM trading_positions order by date ASC;\")\n",
    "    gains_pertes = c.fetchall()\n",
    "\n",
    "\n",
    "for element in gains_pertes:\n",
    "    #print(element)\n",
    "    element = list(element)\n",
    "    element = float(element[0])\n",
    "    #print(element)\n",
    "    if element != 0:\n",
    "        total += element\n",
    "        #print(total)\n",
    "        values.append(total)\n",
    "        values_no_inc.append(element)\n",
    "#print(values)\n",
    "print(len(values))"
   ]
  },
  {
   "cell_type": "code",
   "execution_count": 2,
   "metadata": {},
   "outputs": [
    {
     "data": {
      "text/plain": [
       "[<matplotlib.lines.Line2D at 0x7f25ec47e8d0>]"
      ]
     },
     "execution_count": 2,
     "metadata": {},
     "output_type": "execute_result"
    },
    {
     "data": {
      "image/png": "[encoded data removed]",
      "text/plain": [
       "<Figure size 432x288 with 1 Axes>"
      ]
     },
     "metadata": {
      "needs_background": "light"
     },
     "output_type": "display_data"
    }
   ],
   "source": [
    "N = 21\n",
    "x = np.linspace(0, 1526, 1527)\n",
    "y = values\n",
    "\n",
    "# fit a linear curve an estimate its y-values and their error.\n",
    "a, b = np.polyfit(x, y, deg=1)\n",
    "y_est = a * x + b\n",
    "y_err = x.std() * np.sqrt(1/len(x) +\n",
    "                          (180000 - x.mean())**2 / np.sum((x - x.mean())**2))\n",
    "\n",
    "fig, ax = plt.subplots()\n",
    "ax.plot(x, y_est, '-')\n",
    "ax.fill_between(x, y_est - y_err, y_est + y_err, alpha=0.2)\n",
    "ax.plot(x, y, 'o', color='tab:brown')"
   ]
  },
  {
   "cell_type": "code",
   "execution_count": 4,
   "metadata": {},
   "outputs": [
    {
     "name": "stdout",
     "output_type": "stream",
     "text": [
      "résultats année 2020 :\n",
      "\n",
      "Nombre de positions : 1527\n",
      "Capital départ :  20000 €\n",
      "Plus bas capital 15470 €\n",
      "Plus haut capital 27999 €\n",
      "Capital fin 26358 €\n",
      "\n",
      "Gains : 6358 €\n",
      "Gains en enlevant le spread (0.6€ par position): 2540 €\n",
      "Taux rentabilité  : 12.702650000000103 %\n",
      "\n",
      "Plus grosse perte : -100 €\n",
      "Nb de positions en perte : 958\n",
      "Moyenne des partes : -25 €\n",
      "\n",
      "Plus gros gain : 249 €\n",
      "Nb de positions en gain : 569\n",
      "Moyenne des gains : 54 €\n"
     ]
    }
   ],
   "source": [
    "from statistics import mean\n",
    "\n",
    "with connexion: \n",
    "    c.execute(\"SELECT gains_pertes FROM trading_positions order by date ASC;\")\n",
    "    gains_pertes = c.fetchall()\n",
    "\n",
    "negatives_values = []\n",
    "positives_values = []\n",
    "\n",
    "for i in values_no_inc:\n",
    "    if i < 0 :\n",
    "        negatives_values.append(i)\n",
    "    elif i > 0 :\n",
    "        positives_values.append(i)\n",
    "\n",
    "\n",
    "print(\"résultats année 2020 :\\n\")\n",
    "print(\"Nombre de positions :\",len(values))    \n",
    "print(\"Capital départ : \",capital,\"€\")\n",
    "print(\"Plus bas capital\",int(min(values)),\"€\")\n",
    "print(\"Plus haut capital\",int(max(values)),\"€\")\n",
    "print(\"Capital fin\",int(values[-1]),\"€\")\n",
    "\n",
    "print(\"\\nGains :\",int(values[-1]-capital),\"€\")\n",
    "print(\"Gains en enlevant le spread et frais (2.5€ par position):\",int((values[-1]-capital)-len(values_no_inc)*2.5),\"€\")\n",
    "print(\"Taux rentabilité  :\",((values[-1]-capital)-len(values_no_inc)*2.5)/200,\"%\")\n",
    "\n",
    "\n",
    "print(\"\\nPlus grosse perte :\",int(min(values_no_inc)),\"€\")\n",
    "print(\"Nb de positions en perte :\",len(negatives_values))\n",
    "print(\"Moyenne des partes :\",int(mean(negatives_values)),\"€\")\n",
    "\n",
    "print(\"\\nPlus gros gain :\",int(max(values_no_inc)),\"€\")\n",
    "print(\"Nb de positions en gain :\",len(positives_values))\n",
    "print(\"Moyenne des gains :\",int(mean(positives_values)),\"€\")"
   ]
  },
  {
   "cell_type": "code",
   "execution_count": 8,
   "metadata": {},
   "outputs": [
    {
     "data": {
      "image/png": "[encoded data removed]",
      "text/plain": [
       "<Figure size 432x288 with 1 Axes>"
      ]
     },
     "metadata": {
      "needs_background": "light"
     },
     "output_type": "display_data"
    }
   ],
   "source": [
    "posit_0_20 = 0\n",
    "posit_20_40 = 0\n",
    "posit_40_60 = 0\n",
    "posit_60_80 = 0\n",
    "posit_80_100 = 0\n",
    "posit_100_more = 0\n",
    "\n",
    "negat_0_20 = 0\n",
    "negat_20_40 = 0\n",
    "negat_40_60 = 0\n",
    "negat_60_80 = 0\n",
    "negat_80_100 = 0\n",
    "negat_100_more = 0\n",
    "\n",
    "for element in positives_values:\n",
    "    if element >=0 and element <20:\n",
    "        posit_0_20 += 1\n",
    "    elif element >=20 and element <40:\n",
    "        posit_20_40 += 1\n",
    "    elif element >=40 and element <60:\n",
    "        posit_40_60 += 1\n",
    "    elif element >=60 and element <80:\n",
    "        posit_60_80 += 1\n",
    "    elif element >=80 and element <100:\n",
    "        posit_80_100 += 1\n",
    "    elif element >=100:\n",
    "        posit_100_more += 1\n",
    "\n",
    "for element in negatives_values:\n",
    "    element *= -1\n",
    "    if element >=0 and element <20:\n",
    "        negat_0_20 += 1\n",
    "    elif element >=20 and element <40:\n",
    "        negat_20_40 += 1\n",
    "    elif element >=40 and element <60:\n",
    "        negat_40_60 += 1\n",
    "    elif element >=60 and element <80:\n",
    "        negat_60_80 += 1\n",
    "    elif element >=80 and element <100:\n",
    "        negat_80_100 += 1\n",
    "        \n",
    "labels = ['1-20€', '21-40€', '41-60€', '61-80€', '81-100€', '101€-250€']\n",
    "men_means = [posit_0_20, posit_20_40, posit_40_60, posit_60_80, posit_80_100, posit_100_more]\n",
    "women_means = [negat_0_20, negat_20_40, negat_40_60, negat_60_80, negat_80_100, negat_100_more]\n",
    "\n",
    "x = np.arange(len(labels))  # the label locations\n",
    "width = 0.35  # the width of the bars\n",
    "\n",
    "fig, ax = plt.subplots()\n",
    "rects1 = ax.bar(x - width/2, men_means, width, label='Nb gains')\n",
    "rects2 = ax.bar(x + width/2, women_means, width, label='Nb pertes')\n",
    "\n",
    "# Add some text for labels, title and custom x-axis tick labels, etc.\n",
    "ax.set_ylabel('Scores')\n",
    "ax.set_title('Nombre de pertes / gains par tranche de prix')\n",
    "ax.set_xticks(x)\n",
    "ax.set_xticklabels(labels)\n",
    "ax.legend()\n",
    "\n",
    "\n",
    "def autolabel(rects):\n",
    "    \"\"\"Attach a text label above each bar in *rects*, displaying its height.\"\"\"\n",
    "    for rect in rects:\n",
    "        height = rect.get_height()\n",
    "        ax.annotate('{}'.format(height),\n",
    "                    xy=(rect.get_x() + rect.get_width() / 2, height),\n",
    "                    xytext=(0, 3),  # 3 points vertical offset\n",
    "                    textcoords=\"offset points\",\n",
    "                    ha='center', va='bottom')\n",
    "\n",
    "\n",
    "autolabel(rects1)\n",
    "autolabel(rects2)\n",
    "\n",
    "fig.tight_layout()\n",
    "\n",
    "plt.show()"
   ]
  },
  {
   "cell_type": "code",
   "execution_count": null,
   "metadata": {},
   "outputs": [],
   "source": []
  },
  {
   "cell_type": "code",
   "execution_count": null,
   "metadata": {},
   "outputs": [],
   "source": []
  },
  {
   "cell_type": "code",
   "execution_count": null,
   "metadata": {},
   "outputs": [],
   "source": []
  },
  {
   "cell_type": "code",
   "execution_count": null,
   "metadata": {},
   "outputs": [],
   "source": []
  },
  {
   "cell_type": "code",
   "execution_count": null,
   "metadata": {},
   "outputs": [],
   "source": []
  },
  {
   "cell_type": "code",
   "execution_count": null,
   "metadata": {},
   "outputs": [],
   "source": []
  },
  {
   "cell_type": "code",
   "execution_count": null,
   "metadata": {},
   "outputs": [],
   "source": []
  },
  {
   "cell_type": "code",
   "execution_count": null,
   "metadata": {},
   "outputs": [],
   "source": []
  },
  {
   "cell_type": "code",
   "execution_count": null,
   "metadata": {},
   "outputs": [],
   "source": []
  },
  {
   "cell_type": "code",
   "execution_count": null,
   "metadata": {},
   "outputs": [],
   "source": []
  },
  {
   "cell_type": "code",
   "execution_count": null,
   "metadata": {},
   "outputs": [],
   "source": []
  },
  {
   "cell_type": "code",
   "execution_count": null,
   "metadata": {},
   "outputs": [],
   "source": []
  }
 ],
 "metadata": {
  "kernelspec": {
   "display_name": "Python 3",
   "language": "python",
   "name": "python3"
  },
  "language_info": {
   "codemirror_mode": {
    "name": "ipython",
    "version": 3
   },
   "file_extension": ".py",
   "mimetype": "text/x-python",
   "name": "python",
   "nbconvert_exporter": "python",
   "pygments_lexer": "ipython3",
   "version": "3.7.6"
  }
 },
 "nbformat": 4,
 "nbformat_minor": 4
}
